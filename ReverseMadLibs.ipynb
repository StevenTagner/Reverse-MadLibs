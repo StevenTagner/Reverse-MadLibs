{
 "cells": [
  {
   "cell_type": "code",
   "execution_count": 1,
   "id": "75f3d0cf",
   "metadata": {},
   "outputs": [],
   "source": [
    "from gtts import gTTS\n",
    "import os\n",
    "import random\n",
    "import pandas as pd \n",
    "import numpy as np"
   ]
  },
  {
   "cell_type": "code",
   "execution_count": 57,
   "id": "89ed3a44",
   "metadata": {},
   "outputs": [],
   "source": [
    "nouns = pd.read_table(r'C:\\Users\\steve\\Desktop\\General\\programsMisc\\ReverseMadLibs\\nouns.txt')\n",
    "concreteNouns = pd.read_table(r'C:\\Users\\steve\\Desktop\\General\\programsMisc\\ReverseMadLibs\\concreteNouns.txt')\n",
    "verbs = pd.read_table(r'C:\\Users\\steve\\Desktop\\General\\programsMisc\\ReverseMadLibs\\verbs.txt')\n",
    "adverbs = pd.read_table(r'C:\\Users\\steve\\Desktop\\General\\programsMisc\\ReverseMadLibs\\adverbs.txt')\n",
    "adjs = pd.read_table(r'C:\\Users\\steve\\Desktop\\General\\programsMisc\\ReverseMadLibs\\adjs.txt')\n",
    "names = pd.read_table(r'C:\\Users\\steve\\Desktop\\General\\programsMisc\\ReverseMadLibs\\names.txt')\n",
    "\n",
    "replaceNoun = \"~noun\"\n",
    "replaceConcreteNoun = \"~concreteNoun\"\n",
    "replaceVerb = \"~verb\"\n",
    "replaceAdverb = \"~adverb\"\n",
    "replaceAdj = \"~adj\"\n",
    "replaceName = \"~name\""
   ]
  },
  {
   "cell_type": "code",
   "execution_count": 61,
   "id": "46bddf68",
   "metadata": {},
   "outputs": [
    {
     "name": "stdout",
     "output_type": "stream",
     "text": [
      "Input a story!\n",
      "Use '~noun' for a noun placeholder\n",
      "Use '~concreteNoun' for a concrete noun placeholder\n",
      "Use '~verb' for a verb placeholder\n",
      "Use '~adverb' for a adverb placeholder\n",
      "Use '~adj' for an adjective placeholder\n",
      "Now, this is a ~noun all about how My ~noun got ~adj ~verb And I'd like to take a ~concreteNoun Just ~verb right there I'll tell you how I became the ~noun of a ~concreteNoun called ~noun In ~noun ~verb and ~verb On the ~concreteNoun was where I spent most of my ~concreteNoun Chillin' ~adj, maxin', relaxin', all ~adj And all ~verb some ~concreteNoun outside of the ~noun When a couple of ~noun who were up to no ~adverb Started making ~concreteNoun in my ~noun I got in one little ~noun and my ~noun got ~adj She said, \"You're ~verb with your ~noun and ~noun in ~concreteNoun\" I ~verb and ~verb with her day after day But she packed my ~noun and sent me on my way She gave me a ~verb and then she gave me my ~concreteNoun I put my ~concreteNoun on and said, \"I might as well ~verb it\" First class, yo this is bad Drinking ~noun juice out of a ~noun glass Is this what the people of ~noun ~adj like? Hmm, this might be ~adverb But wait, I hear they're ~adj, ~adj, all that Is this the type of place that they just send this cool cat? I don't think so I'll see when I get there I hope they're prepared for the ~noun of ~concreteNoun Well, the ~noun landed and when I came out There was a dude who looked like a ~noun standing there with my name out I ain't trying to get ~adj yet, I just got here I sprang with the ~adverb like ~noun, ~adj I whistled for a ~noun and when it came near The ~noun said, \"Fresh\" and it had ~concreteNoun in the mirror If anything I could say that this cab was rare But I thought \"Nah, forget it, yo, holmes to ~concreteNoun\" I pulled up to the ~noun about seven or eight And I yelled to the ~noun, \"Yo holmes, smell ya later\" I looked at my ~concreteNoun I was finally there To sit on my ~noun as the ~noun of ~concreteNoun\n"
     ]
    },
    {
     "ename": "KeyError",
     "evalue": "700",
     "output_type": "error",
     "traceback": [
      "\u001b[1;31m---------------------------------------------------------------------------\u001b[0m",
      "\u001b[1;31mValueError\u001b[0m                                Traceback (most recent call last)",
      "File \u001b[1;32m~\\anaconda3\\lib\\site-packages\\pandas\\core\\indexes\\range.py:385\u001b[0m, in \u001b[0;36mRangeIndex.get_loc\u001b[1;34m(self, key, method, tolerance)\u001b[0m\n\u001b[0;32m    384\u001b[0m \u001b[38;5;28;01mtry\u001b[39;00m:\n\u001b[1;32m--> 385\u001b[0m     \u001b[38;5;28;01mreturn\u001b[39;00m \u001b[38;5;28;43mself\u001b[39;49m\u001b[38;5;241;43m.\u001b[39;49m\u001b[43m_range\u001b[49m\u001b[38;5;241;43m.\u001b[39;49m\u001b[43mindex\u001b[49m\u001b[43m(\u001b[49m\u001b[43mnew_key\u001b[49m\u001b[43m)\u001b[49m\n\u001b[0;32m    386\u001b[0m \u001b[38;5;28;01mexcept\u001b[39;00m \u001b[38;5;167;01mValueError\u001b[39;00m \u001b[38;5;28;01mas\u001b[39;00m err:\n",
      "\u001b[1;31mValueError\u001b[0m: 700 is not in range",
      "\nThe above exception was the direct cause of the following exception:\n",
      "\u001b[1;31mKeyError\u001b[0m                                  Traceback (most recent call last)",
      "Input \u001b[1;32mIn [61]\u001b[0m, in \u001b[0;36m<cell line: 4>\u001b[1;34m()\u001b[0m\n\u001b[0;32m      3\u001b[0m countNoun \u001b[38;5;241m=\u001b[39m story\u001b[38;5;241m.\u001b[39mcount(\u001b[38;5;124m\"\u001b[39m\u001b[38;5;124m~noun\u001b[39m\u001b[38;5;124m\"\u001b[39m)\n\u001b[0;32m      4\u001b[0m \u001b[38;5;28;01mwhile\u001b[39;00m i \u001b[38;5;241m<\u001b[39m\u001b[38;5;241m=\u001b[39m countNoun:\n\u001b[1;32m----> 5\u001b[0m     story \u001b[38;5;241m=\u001b[39m story\u001b[38;5;241m.\u001b[39mreplace(replaceNoun, \u001b[43mnouns\u001b[49m\u001b[43m[\u001b[49m\u001b[38;5;124;43m\"\u001b[39;49m\u001b[38;5;124;43mNouns\u001b[39;49m\u001b[38;5;124;43m\"\u001b[39;49m\u001b[43m]\u001b[49m\u001b[43m[\u001b[49m\u001b[43mrandom\u001b[49m\u001b[38;5;241;43m.\u001b[39;49m\u001b[43mrandint\u001b[49m\u001b[43m(\u001b[49m\u001b[38;5;241;43m0\u001b[39;49m\u001b[43m,\u001b[49m\u001b[38;5;28;43mlen\u001b[39;49m\u001b[43m(\u001b[49m\u001b[43mnouns\u001b[49m\u001b[43m[\u001b[49m\u001b[38;5;124;43m\"\u001b[39;49m\u001b[38;5;124;43mNouns\u001b[39;49m\u001b[38;5;124;43m\"\u001b[39;49m\u001b[43m]\u001b[49m\u001b[43m)\u001b[49m\u001b[43m)\u001b[49m\u001b[43m]\u001b[49m,\u001b[38;5;241m1\u001b[39m)\n\u001b[0;32m      6\u001b[0m     i \u001b[38;5;241m=\u001b[39m i \u001b[38;5;241m+\u001b[39m \u001b[38;5;241m1\u001b[39m\n\u001b[0;32m      8\u001b[0m i \u001b[38;5;241m=\u001b[39m \u001b[38;5;241m0\u001b[39m\n",
      "File \u001b[1;32m~\\anaconda3\\lib\\site-packages\\pandas\\core\\series.py:958\u001b[0m, in \u001b[0;36mSeries.__getitem__\u001b[1;34m(self, key)\u001b[0m\n\u001b[0;32m    955\u001b[0m     \u001b[38;5;28;01mreturn\u001b[39;00m \u001b[38;5;28mself\u001b[39m\u001b[38;5;241m.\u001b[39m_values[key]\n\u001b[0;32m    957\u001b[0m \u001b[38;5;28;01melif\u001b[39;00m key_is_scalar:\n\u001b[1;32m--> 958\u001b[0m     \u001b[38;5;28;01mreturn\u001b[39;00m \u001b[38;5;28;43mself\u001b[39;49m\u001b[38;5;241;43m.\u001b[39;49m\u001b[43m_get_value\u001b[49m\u001b[43m(\u001b[49m\u001b[43mkey\u001b[49m\u001b[43m)\u001b[49m\n\u001b[0;32m    960\u001b[0m \u001b[38;5;28;01mif\u001b[39;00m is_hashable(key):\n\u001b[0;32m    961\u001b[0m     \u001b[38;5;66;03m# Otherwise index.get_value will raise InvalidIndexError\u001b[39;00m\n\u001b[0;32m    962\u001b[0m     \u001b[38;5;28;01mtry\u001b[39;00m:\n\u001b[0;32m    963\u001b[0m         \u001b[38;5;66;03m# For labels that don't resolve as scalars like tuples and frozensets\u001b[39;00m\n",
      "File \u001b[1;32m~\\anaconda3\\lib\\site-packages\\pandas\\core\\series.py:1069\u001b[0m, in \u001b[0;36mSeries._get_value\u001b[1;34m(self, label, takeable)\u001b[0m\n\u001b[0;32m   1066\u001b[0m     \u001b[38;5;28;01mreturn\u001b[39;00m \u001b[38;5;28mself\u001b[39m\u001b[38;5;241m.\u001b[39m_values[label]\n\u001b[0;32m   1068\u001b[0m \u001b[38;5;66;03m# Similar to Index.get_value, but we do not fall back to positional\u001b[39;00m\n\u001b[1;32m-> 1069\u001b[0m loc \u001b[38;5;241m=\u001b[39m \u001b[38;5;28;43mself\u001b[39;49m\u001b[38;5;241;43m.\u001b[39;49m\u001b[43mindex\u001b[49m\u001b[38;5;241;43m.\u001b[39;49m\u001b[43mget_loc\u001b[49m\u001b[43m(\u001b[49m\u001b[43mlabel\u001b[49m\u001b[43m)\u001b[49m\n\u001b[0;32m   1070\u001b[0m \u001b[38;5;28;01mreturn\u001b[39;00m \u001b[38;5;28mself\u001b[39m\u001b[38;5;241m.\u001b[39mindex\u001b[38;5;241m.\u001b[39m_get_values_for_loc(\u001b[38;5;28mself\u001b[39m, loc, label)\n",
      "File \u001b[1;32m~\\anaconda3\\lib\\site-packages\\pandas\\core\\indexes\\range.py:387\u001b[0m, in \u001b[0;36mRangeIndex.get_loc\u001b[1;34m(self, key, method, tolerance)\u001b[0m\n\u001b[0;32m    385\u001b[0m         \u001b[38;5;28;01mreturn\u001b[39;00m \u001b[38;5;28mself\u001b[39m\u001b[38;5;241m.\u001b[39m_range\u001b[38;5;241m.\u001b[39mindex(new_key)\n\u001b[0;32m    386\u001b[0m     \u001b[38;5;28;01mexcept\u001b[39;00m \u001b[38;5;167;01mValueError\u001b[39;00m \u001b[38;5;28;01mas\u001b[39;00m err:\n\u001b[1;32m--> 387\u001b[0m         \u001b[38;5;28;01mraise\u001b[39;00m \u001b[38;5;167;01mKeyError\u001b[39;00m(key) \u001b[38;5;28;01mfrom\u001b[39;00m \u001b[38;5;21;01merr\u001b[39;00m\n\u001b[0;32m    388\u001b[0m \u001b[38;5;28mself\u001b[39m\u001b[38;5;241m.\u001b[39m_check_indexing_error(key)\n\u001b[0;32m    389\u001b[0m \u001b[38;5;28;01mraise\u001b[39;00m \u001b[38;5;167;01mKeyError\u001b[39;00m(key)\n",
      "\u001b[1;31mKeyError\u001b[0m: 700"
     ]
    }
   ],
   "source": [
    "story = input(\"Input a story!\\nUse '~noun' for a noun placeholder\\nUse '~concreteNoun' for a concrete noun placeholder\\nUse '~verb' for a verb placeholder\\nUse '~adverb' for a adverb placeholder\\nUse '~adj' for an adjective placeholder\\n\")\n",
    "i=0\n",
    "countNoun = story.count(\"~noun\")\n",
    "while i <= countNoun:\n",
    "    story = story.replace(replaceNoun, nouns[\"Nouns\"][random.randint(0,len(nouns[\"Nouns\"]))],1)\n",
    "    i = i + 1\n",
    "    \n",
    "i = 0\n",
    "countVerb = story.count(\"~verb\")\n",
    "while i <= countVerb:\n",
    "    story = story.replace(replaceVerb, verbs[\"Verbs\"][random.randint(0,len(verbs[\"Verbs\"]))],1)\n",
    "    i = i + 1\n",
    "    \n",
    "i = 0\n",
    "countConcreteNoun = story.count(\"~concreteNoun\")\n",
    "while i <= countConcreteNoun:\n",
    "    story = story.replace(replaceConcreteNoun, concreteNouns[\"Concrete Nouns\"][random.randint(0,len(concreteNouns[\"Concrete Nouns\"]))],1)\n",
    "    i = i + 1\n",
    "    \n",
    "i = 0\n",
    "countAdverb = story.count(\"~adverb\")\n",
    "while i <= countAdverb:\n",
    "    story = story.replace(replaceAdverb, adverbs[\"Adverbs\"][random.randint(0,len(adverbs[\"Adverbs\"]))],1)\n",
    "    i = i + 1\n",
    "    \n",
    "i = 0\n",
    "countAdj = story.count(\"~adj\")\n",
    "while i <= countAdj:\n",
    "    story = story.replace(replaceAdj, adjs[\"adjs\"][random.randint(0,len(adjs[\"adjs\"]))],1)\n",
    "    i = i + 1\n",
    "    \n",
    "i = 0\n",
    "countName = story.count(\"~name\")\n",
    "while i <= countAdj:\n",
    "    story = story.replace(replaceName, names[\"Names\"][random.randint(0,len(names[\"Names\"]))],1)\n",
    "    i = i + 1\n",
    "    \n",
    "print(story)"
   ]
  },
  {
   "cell_type": "code",
   "execution_count": 60,
   "id": "a19898dd",
   "metadata": {},
   "outputs": [
    {
     "data": {
      "text/plain": [
       "0"
      ]
     },
     "execution_count": 60,
     "metadata": {},
     "output_type": "execute_result"
    }
   ],
   "source": [
    "language = 'en'\n",
    "myobj = gTTS(text=story, lang=language, tld = 'com.au', slow=False)\n",
    "myobj.save(\"Story.mp3\")\n",
    "os.system(\"start Story.mp3\")"
   ]
  },
  {
   "cell_type": "markdown",
   "id": "81435f43",
   "metadata": {},
   "source": [
    "# Sample Prompts:\n",
    "<ul>\n",
    "    <li>Now, this is a ~noun all about how\n",
    "    My ~noun got ~adj ~verb\n",
    "    And I'd like to take a ~concreteNoun\n",
    "    Just ~verb right there\n",
    "    I'll tell you how I became the ~noun of a ~concreteNoun called ~noun\n",
    "    In ~noun ~verb and ~verb\n",
    "    On the ~concreteNoun was where I spent most of my ~concreteNoun\n",
    "    Chillin' ~adj, maxin', relaxin', all ~adj\n",
    "    And all ~verb some ~concreteNoun outside of the ~noun\n",
    "    When a couple of ~noun who were up to no ~adverb\n",
    "    Started making ~concreteNoun in my ~noun\n",
    "    I got in one little ~noun and my ~noun got ~adj\n",
    "    She said, \"You're ~verb with your ~noun and ~noun in ~concreteNoun\"\n",
    "    I ~verb and ~verb with her day after day\n",
    "    But she packed my ~noun and sent me on my way\n",
    "    She gave me a ~verb and then she gave me my ~concreteNoun\n",
    "    I put my ~concreteNoun on and said, \"I might as well ~verb it\"\n",
    "    First class, yo this is bad\n",
    "    Drinking ~noun juice out of a ~noun glass\n",
    "    Is this what the people of ~noun ~adj like?\n",
    "    Hmm, this might be ~adverb\n",
    "    But wait, I hear they're ~adj, ~adj, all that\n",
    "    Is this the type of place that they just send this cool cat?\n",
    "    I don't think so\n",
    "    I'll see when I get there\n",
    "    I hope they're prepared for the ~noun of ~concreteNoun\n",
    "    Well, the ~noun landed and when I came out\n",
    "    There was a dude who looked like a ~noun standing there with my name out\n",
    "    I ain't trying to get ~adj yet, I just got here\n",
    "    I sprang with the ~adverb like ~noun, ~adj\n",
    "    I whistled for a ~noun and when it came near\n",
    "    The ~noun said, \"Fresh\" and it had ~concreteNoun in the mirror\n",
    "    If anything I could say that this cab was rare\n",
    "    But I thought \"Nah, forget it, yo, holmes to ~concreteNoun\"\n",
    "    I pulled up to the ~noun about seven or eight\n",
    "    And I yelled to the ~noun, \"Yo holmes, smell ya later\"\n",
    "    I looked at my ~concreteNoun\n",
    "    I was finally there\n",
    "        To sit on my ~noun as the ~noun of ~concreteNoun  </li>\n",
    "</ul>"
   ]
  }
 ],
 "metadata": {
  "kernelspec": {
   "display_name": "Python 3 (ipykernel)",
   "language": "python",
   "name": "python3"
  },
  "language_info": {
   "codemirror_mode": {
    "name": "ipython",
    "version": 3
   },
   "file_extension": ".py",
   "mimetype": "text/x-python",
   "name": "python",
   "nbconvert_exporter": "python",
   "pygments_lexer": "ipython3",
   "version": "3.9.7"
  }
 },
 "nbformat": 4,
 "nbformat_minor": 5
}
